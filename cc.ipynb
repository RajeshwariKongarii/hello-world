{
  "nbformat": 4,
  "nbformat_minor": 0,
  "metadata": {
    "accelerator": "GPU",
    "colab": {
      "name": "harry.ipynb",
      "provenance": [],
      "authorship_tag": "ABX9TyMxEF4bZgEbLd6zBCuPGoMm",
      "include_colab_link": true
    },
    "kernelspec": {
      "display_name": "Python 3",
      "name": "python3"
    },
    "language_info": {
      "name": "python"
    }
  },
  "cells": [
    {
      "cell_type": "markdown",
      "metadata": {
        "id": "view-in-github",
        "colab_type": "text"
      },
      "source": [
        "<a href=\"https://colab.research.google.com/github/RajeshwariKongarii/hello-world/blob/main/cc.ipynb\" target=\"_parent\"><img src=\"https://colab.research.google.com/assets/colab-badge.svg\" alt=\"Open In Colab\"/></a>"
      ]
    },
    {
      "cell_type": "code",
      "metadata": {
        "colab": {
          "base_uri": "https://localhost:8080/"
        },
        "id": "u6CEfUUU6KE8",
        "outputId": "21bd7a0a-d292-4019-c83b-1a7c248667bf"
      },
      "source": [
        "var1 = 'hello world'\n",
        "var2 = 20\n",
        "var3 = 67.43\n",
        "var4 = \" raji\"\n",
        "var5 = \"90\"\n",
        "var6 = \"70\"\n",
        "print(var1)"
      ],
      "execution_count": null,
      "outputs": [
        {
          "name": "stdout",
          "output_type": "stream",
          "text": [
            "hello world\n"
          ]
        }
      ]
    },
    {
      "cell_type": "markdown",
      "metadata": {
        "id": "IWPjHR2fbpK4"
      },
      "source": [
        "Typecasting"
      ]
    },
    {
      "cell_type": "code",
      "metadata": {
        "colab": {
          "base_uri": "https://localhost:8080/"
        },
        "id": "D61ZkDp08Y3D",
        "outputId": "9332d335-64f7-4615-8913-4d44ba1ff988"
      },
      "source": [
        "z=print(int(var5)+int(var6))\n",
        "print(type(z))"
      ],
      "execution_count": null,
      "outputs": [
        {
          "name": "stdout",
          "output_type": "stream",
          "text": [
            "160\n",
            "<class 'NoneType'>\n"
          ]
        }
      ]
    },
    {
      "cell_type": "code",
      "metadata": {
        "colab": {
          "base_uri": "https://localhost:8080/"
        },
        "id": "Vr3Qp3SL7qsf",
        "outputId": "aace4853-b9b5-4f84-c255-485a0b1da361"
      },
      "source": [
        "print(100*(var1 + var4))"
      ],
      "execution_count": null,
      "outputs": [
        {
          "name": "stdout",
          "output_type": "stream",
          "text": [
            "hello world rajihello world rajihello world rajihello world rajihello world rajihello world rajihello world rajihello world rajihello world rajihello world rajihello world rajihello world rajihello world rajihello world rajihello world rajihello world rajihello world rajihello world rajihello world rajihello world rajihello world rajihello world rajihello world rajihello world rajihello world rajihello world rajihello world rajihello world rajihello world rajihello world rajihello world rajihello world rajihello world rajihello world rajihello world rajihello world rajihello world rajihello world rajihello world rajihello world rajihello world rajihello world rajihello world rajihello world rajihello world rajihello world rajihello world rajihello world rajihello world rajihello world rajihello world rajihello world rajihello world rajihello world rajihello world rajihello world rajihello world rajihello world rajihello world rajihello world rajihello world rajihello world rajihello world rajihello world rajihello world rajihello world rajihello world rajihello world rajihello world rajihello world rajihello world rajihello world rajihello world rajihello world rajihello world rajihello world rajihello world rajihello world rajihello world rajihello world rajihello world rajihello world rajihello world rajihello world rajihello world rajihello world rajihello world rajihello world rajihello world rajihello world rajihello world rajihello world rajihello world rajihello world rajihello world rajihello world rajihello world rajihello world rajihello world rajihello world raji\n"
          ]
        }
      ]
    },
    {
      "cell_type": "code",
      "metadata": {
        "colab": {
          "base_uri": "https://localhost:8080/"
        },
        "id": "OujWO32z6lek",
        "outputId": "4d2ea163-43bc-4d1c-e6b9-713a7aa0b559"
      },
      "source": [
        "print(var1+ str(var2))"
      ],
      "execution_count": null,
      "outputs": [
        {
          "name": "stdout",
          "output_type": "stream",
          "text": [
            "hello world20\n"
          ]
        }
      ]
    },
    {
      "cell_type": "code",
      "metadata": {
        "colab": {
          "base_uri": "https://localhost:8080/"
        },
        "id": "RcsD8nAR66Nh",
        "outputId": "b3988df1-644b-4628-9afc-586a0337eecb"
      },
      "source": [
        "y=print(10000000*(var2+var3))"
      ],
      "execution_count": null,
      "outputs": [
        {
          "name": "stdout",
          "output_type": "stream",
          "text": [
            "874300000.0000001\n"
          ]
        }
      ]
    },
    {
      "cell_type": "code",
      "metadata": {
        "colab": {
          "base_uri": "https://localhost:8080/"
        },
        "id": "elWbfFCy7COG",
        "outputId": "7c30fb2d-5a8f-4fbf-8091-e9ac816335cc"
      },
      "source": [
        "print(type(var2+var3))"
      ],
      "execution_count": null,
      "outputs": [
        {
          "name": "stdout",
          "output_type": "stream",
          "text": [
            "<class 'float'>\n"
          ]
        }
      ]
    },
    {
      "cell_type": "code",
      "metadata": {
        "colab": {
          "base_uri": "https://localhost:8080/"
        },
        "id": "rS84r0TK7K_s",
        "outputId": "aef706b7-6afb-4eea-d72f-90df43c04639"
      },
      "source": [
        "print(type(var1))"
      ],
      "execution_count": null,
      "outputs": [
        {
          "name": "stdout",
          "output_type": "stream",
          "text": [
            "<class 'str'>\n"
          ]
        }
      ]
    },
    {
      "cell_type": "code",
      "metadata": {
        "colab": {
          "base_uri": "https://localhost:8080/"
        },
        "id": "UYQeKetl-Otp",
        "outputId": "f922e1b2-ab34-48f7-ca29-a6f166e09560"
      },
      "source": [
        "print(100*(var1+var4+var5+var6))"
      ],
      "execution_count": null,
      "outputs": [
        {
          "name": "stdout",
          "output_type": "stream",
          "text": [
            "hello world raji9070hello world raji9070hello world raji9070hello world raji9070hello world raji9070hello world raji9070hello world raji9070hello world raji9070hello world raji9070hello world raji9070hello world raji9070hello world raji9070hello world raji9070hello world raji9070hello world raji9070hello world raji9070hello world raji9070hello world raji9070hello world raji9070hello world raji9070hello world raji9070hello world raji9070hello world raji9070hello world raji9070hello world raji9070hello world raji9070hello world raji9070hello world raji9070hello world raji9070hello world raji9070hello world raji9070hello world raji9070hello world raji9070hello world raji9070hello world raji9070hello world raji9070hello world raji9070hello world raji9070hello world raji9070hello world raji9070hello world raji9070hello world raji9070hello world raji9070hello world raji9070hello world raji9070hello world raji9070hello world raji9070hello world raji9070hello world raji9070hello world raji9070hello world raji9070hello world raji9070hello world raji9070hello world raji9070hello world raji9070hello world raji9070hello world raji9070hello world raji9070hello world raji9070hello world raji9070hello world raji9070hello world raji9070hello world raji9070hello world raji9070hello world raji9070hello world raji9070hello world raji9070hello world raji9070hello world raji9070hello world raji9070hello world raji9070hello world raji9070hello world raji9070hello world raji9070hello world raji9070hello world raji9070hello world raji9070hello world raji9070hello world raji9070hello world raji9070hello world raji9070hello world raji9070hello world raji9070hello world raji9070hello world raji9070hello world raji9070hello world raji9070hello world raji9070hello world raji9070hello world raji9070hello world raji9070hello world raji9070hello world raji9070hello world raji9070hello world raji9070hello world raji9070hello world raji9070hello world raji9070hello world raji9070hello world raji9070\n"
          ]
        }
      ]
    },
    {
      "cell_type": "code",
      "metadata": {
        "colab": {
          "base_uri": "https://localhost:8080/"
        },
        "id": "UUk_PEWQ-SCo",
        "outputId": "7bbd01c3-1550-4f85-e6e5-a152fb60cc1b"
      },
      "source": [
        "print(\"enter a two digit number: \")\n",
        "number = input()\n",
        "\n",
        "print(\"you entered - \", number )\n",
        "print(\"your number when multiplied by 10 gives...\",10*int(number))"
      ],
      "execution_count": null,
      "outputs": [
        {
          "name": "stdout",
          "output_type": "stream",
          "text": [
            "enter a two digit number: \n",
            "45\n",
            "you entered -  45\n",
            "your number when multiplied by 10 gives... 450\n"
          ]
        }
      ]
    },
    {
      "cell_type": "code",
      "metadata": {
        "id": "tr912dbZBJr8"
      },
      "source": [
        ""
      ],
      "execution_count": null,
      "outputs": []
    },
    {
      "cell_type": "code",
      "metadata": {
        "colab": {
          "base_uri": "https://localhost:8080/"
        },
        "id": "TUJRsY28-TIG",
        "outputId": "5ccb7fa7-8624-4b95-f945-d992c83b1694"
      },
      "source": [
        "print(\"Please enter your first number to be added: \")\n",
        "number1 = input()\n",
        "\n",
        "print(\"Now enter your second number: \")\n",
        "number2 = input()\n",
        "\n",
        "print(\"Your result is...\",int(number1)+int(number2))"
      ],
      "execution_count": null,
      "outputs": [
        {
          "name": "stdout",
          "output_type": "stream",
          "text": [
            "Please enter your first number to be added: \n",
            "34567\n",
            "Now enter your second number: \n",
            "4567889\n",
            "Your result is... 4602456\n"
          ]
        }
      ]
    },
    {
      "cell_type": "code",
      "metadata": {
        "colab": {
          "base_uri": "https://localhost:8080/"
        },
        "id": "jdqI6a65-I-Y",
        "outputId": "5f32ef3d-d829-4371-ff6d-7904bcdd12f5"
      },
      "source": [
        "print(1000*var1)"
      ],
      "execution_count": null,
      "outputs": [
        {
          "name": "stdout",
          "output_type": "stream",
          "text": [
            "hello worldhello worldhello worldhello worldhello worldhello worldhello worldhello worldhello worldhello worldhello worldhello worldhello worldhello worldhello worldhello worldhello worldhello worldhello worldhello worldhello worldhello worldhello worldhello worldhello worldhello worldhello worldhello worldhello worldhello worldhello worldhello worldhello worldhello worldhello worldhello worldhello worldhello worldhello worldhello worldhello worldhello worldhello worldhello worldhello worldhello worldhello worldhello worldhello worldhello worldhello worldhello worldhello worldhello worldhello worldhello worldhello worldhello worldhello worldhello worldhello worldhello worldhello worldhello worldhello worldhello worldhello worldhello worldhello worldhello worldhello worldhello worldhello worldhello worldhello worldhello worldhello worldhello worldhello worldhello worldhello worldhello worldhello worldhello worldhello worldhello worldhello worldhello worldhello worldhello worldhello worldhello worldhello worldhello worldhello worldhello worldhello worldhello worldhello worldhello worldhello worldhello worldhello worldhello worldhello worldhello worldhello worldhello worldhello worldhello worldhello worldhello worldhello worldhello worldhello worldhello worldhello worldhello worldhello worldhello worldhello worldhello worldhello worldhello worldhello worldhello worldhello worldhello worldhello worldhello worldhello worldhello worldhello worldhello worldhello worldhello worldhello worldhello worldhello worldhello worldhello worldhello worldhello worldhello worldhello worldhello worldhello worldhello worldhello worldhello worldhello worldhello worldhello worldhello worldhello worldhello worldhello worldhello worldhello worldhello worldhello worldhello worldhello worldhello worldhello worldhello worldhello worldhello worldhello worldhello worldhello worldhello worldhello worldhello worldhello worldhello worldhello worldhello worldhello worldhello worldhello worldhello worldhello worldhello worldhello worldhello worldhello worldhello worldhello worldhello worldhello worldhello worldhello worldhello worldhello worldhello worldhello worldhello worldhello worldhello worldhello worldhello worldhello worldhello worldhello worldhello worldhello worldhello worldhello worldhello worldhello worldhello worldhello worldhello worldhello worldhello worldhello worldhello worldhello worldhello worldhello worldhello worldhello worldhello worldhello worldhello worldhello worldhello worldhello worldhello worldhello worldhello worldhello worldhello worldhello worldhello worldhello worldhello worldhello worldhello worldhello worldhello worldhello worldhello worldhello worldhello worldhello worldhello worldhello worldhello worldhello worldhello worldhello worldhello worldhello worldhello worldhello worldhello worldhello worldhello worldhello worldhello worldhello worldhello worldhello worldhello worldhello worldhello worldhello worldhello worldhello worldhello worldhello worldhello worldhello worldhello worldhello worldhello worldhello worldhello worldhello worldhello worldhello worldhello worldhello worldhello worldhello worldhello worldhello worldhello worldhello worldhello worldhello worldhello worldhello worldhello worldhello worldhello worldhello worldhello worldhello worldhello worldhello worldhello worldhello worldhello worldhello worldhello worldhello worldhello worldhello worldhello worldhello worldhello worldhello worldhello worldhello worldhello worldhello worldhello worldhello worldhello worldhello worldhello worldhello worldhello worldhello worldhello worldhello worldhello worldhello worldhello worldhello worldhello worldhello worldhello worldhello worldhello worldhello worldhello worldhello worldhello worldhello worldhello worldhello worldhello worldhello worldhello worldhello worldhello worldhello worldhello worldhello worldhello worldhello worldhello worldhello worldhello worldhello worldhello worldhello worldhello worldhello worldhello worldhello worldhello worldhello worldhello worldhello worldhello worldhello worldhello worldhello worldhello worldhello worldhello worldhello worldhello worldhello worldhello worldhello worldhello worldhello worldhello worldhello worldhello worldhello worldhello worldhello worldhello worldhello worldhello worldhello worldhello worldhello worldhello worldhello worldhello worldhello worldhello worldhello worldhello worldhello worldhello worldhello worldhello worldhello worldhello worldhello worldhello worldhello worldhello worldhello worldhello worldhello worldhello worldhello worldhello worldhello worldhello worldhello worldhello worldhello worldhello worldhello worldhello worldhello worldhello worldhello worldhello worldhello worldhello worldhello worldhello worldhello worldhello worldhello worldhello worldhello worldhello worldhello worldhello worldhello worldhello worldhello worldhello worldhello worldhello worldhello worldhello worldhello worldhello worldhello worldhello worldhello worldhello worldhello worldhello worldhello worldhello worldhello worldhello worldhello worldhello worldhello worldhello worldhello worldhello worldhello worldhello worldhello worldhello worldhello worldhello worldhello worldhello worldhello worldhello worldhello worldhello worldhello worldhello worldhello worldhello worldhello worldhello worldhello worldhello worldhello worldhello worldhello worldhello worldhello worldhello worldhello worldhello worldhello worldhello worldhello worldhello worldhello worldhello worldhello worldhello worldhello worldhello worldhello worldhello worldhello worldhello worldhello worldhello worldhello worldhello worldhello worldhello worldhello worldhello worldhello worldhello worldhello worldhello worldhello worldhello worldhello worldhello worldhello worldhello worldhello worldhello worldhello worldhello worldhello worldhello worldhello worldhello worldhello worldhello worldhello worldhello worldhello worldhello worldhello worldhello worldhello worldhello worldhello worldhello worldhello worldhello worldhello worldhello worldhello worldhello worldhello worldhello worldhello worldhello worldhello worldhello worldhello worldhello worldhello worldhello worldhello worldhello worldhello worldhello worldhello worldhello worldhello worldhello worldhello worldhello worldhello worldhello worldhello worldhello worldhello worldhello worldhello worldhello worldhello worldhello worldhello worldhello worldhello worldhello worldhello worldhello worldhello worldhello worldhello worldhello worldhello worldhello worldhello worldhello worldhello worldhello worldhello worldhello worldhello worldhello worldhello worldhello worldhello worldhello worldhello worldhello worldhello worldhello worldhello worldhello worldhello worldhello worldhello worldhello worldhello worldhello worldhello worldhello worldhello worldhello worldhello worldhello worldhello worldhello worldhello worldhello worldhello worldhello worldhello worldhello worldhello worldhello worldhello worldhello worldhello worldhello worldhello worldhello worldhello worldhello worldhello worldhello worldhello worldhello worldhello worldhello worldhello worldhello worldhello worldhello worldhello worldhello worldhello worldhello worldhello worldhello worldhello worldhello worldhello worldhello worldhello worldhello worldhello worldhello worldhello worldhello worldhello worldhello worldhello worldhello worldhello worldhello worldhello worldhello worldhello worldhello worldhello worldhello worldhello worldhello worldhello worldhello worldhello worldhello worldhello worldhello worldhello worldhello worldhello worldhello worldhello worldhello worldhello worldhello worldhello worldhello worldhello worldhello worldhello worldhello worldhello worldhello worldhello worldhello worldhello worldhello worldhello worldhello worldhello worldhello worldhello worldhello worldhello worldhello worldhello worldhello worldhello worldhello worldhello worldhello worldhello worldhello worldhello worldhello worldhello worldhello worldhello worldhello worldhello worldhello worldhello worldhello worldhello worldhello worldhello worldhello worldhello worldhello worldhello worldhello worldhello worldhello worldhello worldhello worldhello worldhello worldhello worldhello worldhello worldhello worldhello worldhello worldhello worldhello worldhello worldhello worldhello worldhello worldhello worldhello worldhello worldhello worldhello worldhello worldhello worldhello worldhello worldhello worldhello worldhello worldhello worldhello worldhello worldhello worldhello worldhello worldhello worldhello worldhello worldhello worldhello worldhello worldhello worldhello worldhello worldhello worldhello worldhello worldhello worldhello worldhello worldhello worldhello worldhello worldhello worldhello worldhello worldhello worldhello worldhello worldhello worldhello worldhello worldhello worldhello worldhello worldhello worldhello worldhello worldhello worldhello worldhello worldhello worldhello worldhello worldhello worldhello worldhello worldhello worldhello worldhello worldhello worldhello worldhello worldhello worldhello worldhello worldhello worldhello worldhello worldhello worldhello worldhello worldhello worldhello worldhello worldhello worldhello worldhello worldhello worldhello worldhello worldhello worldhello worldhello worldhello worldhello worldhello worldhello worldhello worldhello worldhello worldhello worldhello worldhello worldhello worldhello worldhello worldhello worldhello worldhello worldhello worldhello worldhello worldhello worldhello worldhello worldhello worldhello worldhello worldhello worldhello worldhello worldhello worldhello worldhello worldhello worldhello worldhello worldhello worldhello worldhello worldhello worldhello worldhello worldhello worldhello worldhello worldhello worldhello worldhello worldhello worldhello worldhello worldhello worldhello worldhello worldhello worldhello worldhello worldhello worldhello worldhello worldhello worldhello worldhello worldhello worldhello worldhello worldhello worldhello worldhello worldhello worldhello worldhello worldhello worldhello worldhello worldhello worldhello worldhello worldhello worldhello worldhello worldhello worldhello worldhello worldhello worldhello worldhello worldhello worldhello worldhello worldhello worldhello worldhello worldhello worldhello worldhello worldhello worldhello worldhello worldhello worldhello worldhello worldhello worldhello worldhello worldhello worldhello worldhello worldhello worldhello worldhello worldhello worldhello worldhello worldhello worldhello worldhello worldhello worldhello worldhello worldhello worldhello worldhello worldhello worldhello worldhello worldhello worldhello worldhello worldhello worldhello worldhello worldhello worldhello worldhello worldhello worldhello worldhello worldhello worldhello worldhello worldhello worldhello worldhello worldhello worldhello worldhello worldhello worldhello worldhello worldhello worldhello worldhello world\n"
          ]
        }
      ]
    },
    {
      "cell_type": "code",
      "metadata": {
        "colab": {
          "base_uri": "https://localhost:8080/"
        },
        "id": "piGt0wTs-Ib-",
        "outputId": "6a1b4318-8b68-4d36-bacc-6db65f73b232"
      },
      "source": [
        "print(\"Enter your last five digits of your phone number: \")\n",
        "digits = input()\n",
        "print(\"Now enter the first two digits: \")\n",
        "digits2 = input()\n",
        "print(\"enter the remaining digits: \")\n",
        "digits3 = input()\n",
        "\n",
        "print(\"your mobile number is...\",digits2+digits3+digits)"
      ],
      "execution_count": null,
      "outputs": [
        {
          "name": "stdout",
          "output_type": "stream",
          "text": [
            "Enter your last five digits of your phone number: \n",
            "88111\n",
            "Now enter the first two digits: \n",
            "81\n",
            "enter the remaining digits: \n",
            "063\n",
            "your mobile number is... 8106388111\n"
          ]
        }
      ]
    },
    {
      "cell_type": "markdown",
      "metadata": {
        "id": "9Gc2k9svbjfr"
      },
      "source": [
        "Strings"
      ]
    },
    {
      "cell_type": "code",
      "metadata": {
        "colab": {
          "base_uri": "https://localhost:8080/"
        },
        "id": "wG9_k10yDnCE",
        "outputId": "e99b984e-f7e8-409c-bb46-5467cbca21f4"
      },
      "source": [
        "mystr = \"Raji..What are you doing\"\n",
        "print(mystr[6])\n",
        "print(mystr[:])\n",
        "print(mystr[0:23:3])\n",
        "print(mystr[::])\n",
        "print(mystr[0:24:1])\n",
        "print(mystr[::23])\n",
        "print(mystr[::24])\n",
        "print(mystr[::3004])\n",
        "print(f'The question asked to you is {mystr}')"
      ],
      "execution_count": null,
      "outputs": [
        {
          "name": "stdout",
          "output_type": "stream",
          "text": [
            "W\n",
            "Raji..What are you doing\n",
            "RiWtry i\n",
            "Raji..What are you doing\n",
            "Raji..What are you doing\n",
            "Rg\n",
            "R\n",
            "R\n",
            "The question asked to you is Raji..What are you doing\n"
          ]
        }
      ]
    },
    {
      "cell_type": "code",
      "metadata": {
        "colab": {
          "base_uri": "https://localhost:8080/"
        },
        "id": "2SwotjlgGfLP",
        "outputId": "9bbda327-261e-438d-9429-9314ec8a0cf5"
      },
      "source": [
        "print(mystr[-2:-6])"
      ],
      "execution_count": null,
      "outputs": [
        {
          "name": "stdout",
          "output_type": "stream",
          "text": [
            "\n"
          ]
        }
      ]
    },
    {
      "cell_type": "code",
      "metadata": {
        "colab": {
          "base_uri": "https://localhost:8080/"
        },
        "id": "Hcot6FFoF2VS",
        "outputId": "68c2fdaf-bf70-402e-fc63-6468311379ea"
      },
      "source": [
        "print(mystr[::-1])"
      ],
      "execution_count": null,
      "outputs": [
        {
          "name": "stdout",
          "output_type": "stream",
          "text": [
            "gniod uoy era tahW..ijaR\n"
          ]
        }
      ]
    },
    {
      "cell_type": "code",
      "metadata": {
        "colab": {
          "base_uri": "https://localhost:8080/"
        },
        "id": "MbCmeU6j-IDK",
        "outputId": "3288bbd2-2c75-45e8-b997-37b79d616ce1"
      },
      "source": [
        "print(mystr[::-2])"
      ],
      "execution_count": null,
      "outputs": [
        {
          "name": "stdout",
          "output_type": "stream",
          "text": [
            "giduyeath.ia\n"
          ]
        }
      ]
    },
    {
      "cell_type": "code",
      "metadata": {
        "colab": {
          "base_uri": "https://localhost:8080/"
        },
        "id": "DQ1IDqu1IVk9",
        "outputId": "74eb058e-d97f-4dfe-9c3e-8c7e9d5ab88a"
      },
      "source": [
        "print(len(mystr))\n",
        "print(type(mystr))"
      ],
      "execution_count": null,
      "outputs": [
        {
          "name": "stdout",
          "output_type": "stream",
          "text": [
            "24\n",
            "<class 'str'>\n"
          ]
        }
      ]
    },
    {
      "cell_type": "code",
      "metadata": {
        "id": "dTqcujkqI1PG"
      },
      "source": [
        "str2=(\"Raji I love you 3000\")"
      ],
      "execution_count": null,
      "outputs": []
    },
    {
      "cell_type": "code",
      "metadata": {
        "colab": {
          "base_uri": "https://localhost:8080/"
        },
        "id": "GTil7FEi-HxO",
        "outputId": "f73c4047-7101-4da3-f763-b72c6deb4ffe"
      },
      "source": [
        "print(str2.isalnum())"
      ],
      "execution_count": null,
      "outputs": [
        {
          "name": "stdout",
          "output_type": "stream",
          "text": [
            "False\n"
          ]
        }
      ]
    },
    {
      "cell_type": "code",
      "metadata": {
        "colab": {
          "base_uri": "https://localhost:8080/"
        },
        "id": "ajupKImA-HuI",
        "outputId": "b364f9cd-2852-4c4d-9a03-de11244e785e"
      },
      "source": [
        "print(str2.isalpha())"
      ],
      "execution_count": null,
      "outputs": [
        {
          "name": "stdout",
          "output_type": "stream",
          "text": [
            "False\n"
          ]
        }
      ]
    },
    {
      "cell_type": "code",
      "metadata": {
        "colab": {
          "base_uri": "https://localhost:8080/"
        },
        "id": "h_YRNIsXJZIb",
        "outputId": "0dba8194-b181-4336-db96-58d42b7b33a4"
      },
      "source": [
        "print(str2.upper())\n",
        "print(str2.isidentifier())\n",
        "print(str2.endswith(\"3000\"))\n",
        "print(str2.count(\"0\"))\n",
        "print(str2.count(\"o\"))\n",
        "print(str2.count(\"r\"))\n",
        "print(str2.find(\"r\"))\n",
        "print(str2.replace(\"Raji\",\"Sangi\"))\n",
        "print(str2.encode())\n",
        "print(str2.format())\n"
      ],
      "execution_count": null,
      "outputs": [
        {
          "name": "stdout",
          "output_type": "stream",
          "text": [
            "RAJI I LOVE YOU 3000\n",
            "False\n",
            "True\n",
            "3\n",
            "2\n",
            "0\n",
            "-1\n",
            "Sangi I love you 3000\n",
            "b'Raji I love you 3000'\n",
            "Raji I love you 3000\n"
          ]
        }
      ]
    },
    {
      "cell_type": "markdown",
      "metadata": {
        "id": "vSC1rC0hbYo5"
      },
      "source": [
        "Lists"
      ]
    },
    {
      "cell_type": "code",
      "metadata": {
        "colab": {
          "base_uri": "https://localhost:8080/"
        },
        "id": "Hk4yos4ENHk6",
        "outputId": "fc4f297f-c0c4-4411-8bad-ef0b22e1a6a0"
      },
      "source": [
        "myfriends = [\"Nikky\",\"Srija\",\"Manasa\",\"Ravali\",\"Rani\",\"Mounika\",\"Kunni\",\"Aparna\"]\n",
        "print(myfriends)\n",
        "print(myfriends[0])"
      ],
      "execution_count": null,
      "outputs": [
        {
          "name": "stdout",
          "output_type": "stream",
          "text": [
            "['Nikky', 'Srija', 'Manasa', 'Ravali', 'Rani', 'Mounika', 'Kunni', 'Aparna']\n",
            "Nikky\n"
          ]
        }
      ]
    },
    {
      "cell_type": "code",
      "metadata": {
        "colab": {
          "base_uri": "https://localhost:8080/"
        },
        "id": "gGdd1uNgQMx-",
        "outputId": "3e91c775-936b-4639-cefd-423c08f00a8d"
      },
      "source": [
        "num = [2,3,4,6,8,7]\n",
        "print(num[5])\n",
        "num.reverse()\n",
        "print(num)\n",
        "num.remove(3)\n",
        "print(num)\n",
        "num.sort()\n",
        "print(num)\n",
        "print(len(num))"
      ],
      "execution_count": null,
      "outputs": [
        {
          "name": "stdout",
          "output_type": "stream",
          "text": [
            "7\n",
            "[7, 8, 6, 4, 3, 2]\n",
            "[7, 8, 6, 4, 2]\n",
            "[2, 4, 6, 7, 8]\n",
            "5\n"
          ]
        }
      ]
    },
    {
      "cell_type": "code",
      "metadata": {
        "colab": {
          "base_uri": "https://localhost:8080/"
        },
        "id": "SH98C3oqR1OU",
        "outputId": "260d539a-d15f-46be-a23d-b22d1228b8a8"
      },
      "source": [
        "print(num[0:5])"
      ],
      "execution_count": null,
      "outputs": [
        {
          "name": "stdout",
          "output_type": "stream",
          "text": [
            "[2, 4, 6, 7, 8]\n"
          ]
        }
      ]
    },
    {
      "cell_type": "code",
      "metadata": {
        "colab": {
          "base_uri": "https://localhost:8080/"
        },
        "id": "tsq-Kkc1R6nS",
        "outputId": "99ba1818-b749-4118-fd5f-7f56923d0728"
      },
      "source": [
        "print(num[:])"
      ],
      "execution_count": null,
      "outputs": [
        {
          "name": "stdout",
          "output_type": "stream",
          "text": [
            "[2, 4, 6, 7, 8]\n"
          ]
        }
      ]
    },
    {
      "cell_type": "code",
      "metadata": {
        "colab": {
          "base_uri": "https://localhost:8080/"
        },
        "id": "gUKBOMlZ7evD",
        "outputId": "86f0c59c-ab28-4aac-aca9-5000ba0d33b8"
      },
      "source": [
        "print(100*var1)"
      ],
      "execution_count": null,
      "outputs": [
        {
          "name": "stdout",
          "output_type": "stream",
          "text": [
            "hello worldhello worldhello worldhello worldhello worldhello worldhello worldhello worldhello worldhello worldhello worldhello worldhello worldhello worldhello worldhello worldhello worldhello worldhello worldhello worldhello worldhello worldhello worldhello worldhello worldhello worldhello worldhello worldhello worldhello worldhello worldhello worldhello worldhello worldhello worldhello worldhello worldhello worldhello worldhello worldhello worldhello worldhello worldhello worldhello worldhello worldhello worldhello worldhello worldhello worldhello worldhello worldhello worldhello worldhello worldhello worldhello worldhello worldhello worldhello worldhello worldhello worldhello worldhello worldhello worldhello worldhello worldhello worldhello worldhello worldhello worldhello worldhello worldhello worldhello worldhello worldhello worldhello worldhello worldhello worldhello worldhello worldhello worldhello worldhello worldhello worldhello worldhello worldhello worldhello worldhello worldhello worldhello worldhello worldhello worldhello worldhello worldhello worldhello worldhello world\n"
          ]
        }
      ]
    },
    {
      "cell_type": "code",
      "metadata": {
        "colab": {
          "base_uri": "https://localhost:8080/"
        },
        "id": "ukamiTiE7eT0",
        "outputId": "d54d9609-782a-4e61-b60b-119c27327504"
      },
      "source": [
        "print(num)"
      ],
      "execution_count": null,
      "outputs": [
        {
          "name": "stdout",
          "output_type": "stream",
          "text": [
            "[2, 4, 6, 7, 8]\n"
          ]
        }
      ]
    },
    {
      "cell_type": "code",
      "metadata": {
        "colab": {
          "base_uri": "https://localhost:8080/"
        },
        "id": "VJDUzmEV7cRU",
        "outputId": "dc21c29a-8f0e-4a67-fbbf-f57814c0a815"
      },
      "source": [
        "print(num[::2])"
      ],
      "execution_count": null,
      "outputs": [
        {
          "name": "stdout",
          "output_type": "stream",
          "text": [
            "[2, 6, 8]\n"
          ]
        }
      ]
    },
    {
      "cell_type": "code",
      "metadata": {
        "colab": {
          "base_uri": "https://localhost:8080/"
        },
        "id": "SVRddVhkSsg6",
        "outputId": "64fe1470-dafa-4d43-e952-a2d23c3bb4c4"
      },
      "source": [
        "print(num[::-1])"
      ],
      "execution_count": null,
      "outputs": [
        {
          "name": "stdout",
          "output_type": "stream",
          "text": [
            "[8, 7, 6, 4, 2]\n"
          ]
        }
      ]
    },
    {
      "cell_type": "code",
      "metadata": {
        "colab": {
          "base_uri": "https://localhost:8080/"
        },
        "id": "cs1HA51ASs0T",
        "outputId": "106de4a4-3b0e-4875-fca5-29e397ba4989"
      },
      "source": [
        "print(num[::-3])"
      ],
      "execution_count": null,
      "outputs": [
        {
          "name": "stdout",
          "output_type": "stream",
          "text": [
            "[8, 4]\n"
          ]
        }
      ]
    },
    {
      "cell_type": "code",
      "metadata": {
        "colab": {
          "base_uri": "https://localhost:8080/"
        },
        "id": "y_Nh35KUStLY",
        "outputId": "8d9ace21-4882-43c1-92f0-b20f99ff2e26"
      },
      "source": [
        "print(num[::2])"
      ],
      "execution_count": null,
      "outputs": [
        {
          "name": "stdout",
          "output_type": "stream",
          "text": [
            "[2, 6, 8]\n"
          ]
        }
      ]
    },
    {
      "cell_type": "code",
      "metadata": {
        "colab": {
          "base_uri": "https://localhost:8080/"
        },
        "id": "BJXBcdhJTQ1n",
        "outputId": "e7091eec-0cb4-4669-d165-d7a1e2169ee9"
      },
      "source": [
        "print(max(num))"
      ],
      "execution_count": null,
      "outputs": [
        {
          "name": "stdout",
          "output_type": "stream",
          "text": [
            "8\n"
          ]
        }
      ]
    },
    {
      "cell_type": "code",
      "metadata": {
        "colab": {
          "base_uri": "https://localhost:8080/"
        },
        "id": "Xjg7n9IrTRF_",
        "outputId": "b367f7f0-7e39-46fe-f2f7-0c6f1456c2b5"
      },
      "source": [
        "num.append(90)\n",
        "print(num)"
      ],
      "execution_count": null,
      "outputs": [
        {
          "name": "stdout",
          "output_type": "stream",
          "text": [
            "[2, 4, 6, 7, 8, 90, 90, 90]\n"
          ]
        }
      ]
    },
    {
      "cell_type": "code",
      "metadata": {
        "colab": {
          "base_uri": "https://localhost:8080/"
        },
        "id": "I9Mb3fjOT7h_",
        "outputId": "40636a36-6086-4f24-853b-5ec8d81428ad"
      },
      "source": [
        "num.append(78)\n",
        "print(num)"
      ],
      "execution_count": null,
      "outputs": [
        {
          "name": "stdout",
          "output_type": "stream",
          "text": [
            "[2, 4, 6, 7, 8, 90, 90, 90, 78]\n"
          ]
        }
      ]
    },
    {
      "cell_type": "code",
      "metadata": {
        "colab": {
          "base_uri": "https://localhost:8080/"
        },
        "id": "d-Hvp4_KT8Du",
        "outputId": "ddc119b1-9c8d-458d-9cb5-a0438664560f"
      },
      "source": [
        "nums = []\n",
        "nums.append(23)\n",
        "nums.append(23)\n",
        "nums.append(23)\n",
        "nums.append(23)\n",
        "nums.append(23)\n",
        "print(nums)"
      ],
      "execution_count": null,
      "outputs": [
        {
          "name": "stdout",
          "output_type": "stream",
          "text": [
            "[23, 23, 23, 23, 23]\n"
          ]
        }
      ]
    },
    {
      "cell_type": "code",
      "metadata": {
        "colab": {
          "base_uri": "https://localhost:8080/"
        },
        "id": "Ca3Bqlb1T6Uq",
        "outputId": "dc76be5b-e056-413a-8066-c484cb9417d1"
      },
      "source": [
        "nums.insert(3,68)\n",
        "\n",
        "print(nums)"
      ],
      "execution_count": null,
      "outputs": [
        {
          "name": "stdout",
          "output_type": "stream",
          "text": [
            "[23, 23, 68, 68, 68, 68, 68, 68, 23, 23]\n"
          ]
        }
      ]
    },
    {
      "cell_type": "code",
      "metadata": {
        "colab": {
          "base_uri": "https://localhost:8080/"
        },
        "id": "z2JzjWGGTRfd",
        "outputId": "5b97ae4d-2acd-47ff-8a83-461f303b7975"
      },
      "source": [
        "nums.pop()\n",
        "print(nums)"
      ],
      "execution_count": null,
      "outputs": [
        {
          "name": "stdout",
          "output_type": "stream",
          "text": [
            "[23, 23, 68, 68, 68, 68, 68, 68, 23]\n"
          ]
        }
      ]
    },
    {
      "cell_type": "code",
      "metadata": {
        "colab": {
          "base_uri": "https://localhost:8080/"
        },
        "id": "tJfQOv-XYeyI",
        "outputId": "21563a1c-9089-4880-8e25-b9f560e195d2"
      },
      "source": [
        "nums[1]=90\n",
        "print(nums)"
      ],
      "execution_count": null,
      "outputs": [
        {
          "name": "stdout",
          "output_type": "stream",
          "text": [
            "[23, 90, 68, 68, 68, 68, 68, 68, 23]\n"
          ]
        }
      ]
    },
    {
      "cell_type": "markdown",
      "metadata": {
        "id": "cSRkpk59YsfP"
      },
      "source": [
        "Mutable = can change\n",
        "Immutable = cannot change\n",
        "\n",
        "\n",
        "\n",
        "tuple is immutable\n",
        "list is mutable\n"
      ]
    },
    {
      "cell_type": "code",
      "metadata": {
        "colab": {
          "base_uri": "https://localhost:8080/"
        },
        "id": "YE13unlaZBkw",
        "outputId": "872c9f99-ac1b-442e-f83b-b9b3cf1e2bc1"
      },
      "source": [
        "tp = (1,2,3)\n",
        "print(tp)"
      ],
      "execution_count": null,
      "outputs": [
        {
          "name": "stdout",
          "output_type": "stream",
          "text": [
            "(1, 2, 3)\n"
          ]
        }
      ]
    },
    {
      "cell_type": "code",
      "metadata": {
        "colab": {
          "base_uri": "https://localhost:8080/"
        },
        "id": "OuL6oP1PY1Qb",
        "outputId": "b4f1a644-3320-4ebb-a209-02e4abae7ac3"
      },
      "source": [
        "tp =  (1)\n",
        "print(tp)\n",
        "tp = (1,)\n",
        "print(tp)"
      ],
      "execution_count": null,
      "outputs": [
        {
          "name": "stdout",
          "output_type": "stream",
          "text": [
            "1\n",
            "(1,)\n"
          ]
        }
      ]
    },
    {
      "cell_type": "code",
      "metadata": {
        "colab": {
          "base_uri": "https://localhost:8080/"
        },
        "id": "W7Rkw4_9TRvI",
        "outputId": "4b90900c-9047-4276-dbf8-b8f214619e0e"
      },
      "source": [
        "a=1 \n",
        "b=4\n",
        "a,b=b,a\n",
        "print(a,b)"
      ],
      "execution_count": null,
      "outputs": [
        {
          "name": "stdout",
          "output_type": "stream",
          "text": [
            "4 1\n"
          ]
        }
      ]
    },
    {
      "cell_type": "markdown",
      "metadata": {
        "id": "-HFAa_sAbJtO"
      },
      "source": [
        "***Dictionaries***\n",
        "\n",
        "Dictionary is nothing but key value pairs"
      ]
    },
    {
      "cell_type": "code",
      "metadata": {
        "colab": {
          "base_uri": "https://localhost:8080/"
        },
        "id": "lxRfUzTPbLXe",
        "outputId": "fa96aa40-c55f-41f0-92fd-3970447e4ab6"
      },
      "source": [
        "d1 = {}\n",
        "print(type(d1))"
      ],
      "execution_count": null,
      "outputs": [
        {
          "name": "stdout",
          "output_type": "stream",
          "text": [
            "<class 'dict'>\n"
          ]
        }
      ]
    },
    {
      "cell_type": "code",
      "metadata": {
        "colab": {
          "base_uri": "https://localhost:8080/"
        },
        "id": "52khzCqNaVPq",
        "outputId": "21fc9264-b749-485e-d7f6-69662d0f1c49"
      },
      "source": [
        "d2 = {\"Raji\":\"good\",\"Sangi\":\"bad\",\"Hari\":{\"1\":\"Sreesha\",\"2\":\"Teju\"}}\n",
        "print(d2[\"Hari\"])\n",
        "d2[\"Amma\"] = \"super cool\"\n",
        "print(d2)"
      ],
      "execution_count": null,
      "outputs": [
        {
          "name": "stdout",
          "output_type": "stream",
          "text": [
            "{'1': 'Sreesha', '2': 'Teju'}\n",
            "{'Raji': 'good', 'Sangi': 'bad', 'Hari': {'1': 'Sreesha', '2': 'Teju'}, 'Amma': 'super cool'}\n"
          ]
        }
      ]
    },
    {
      "cell_type": "code",
      "metadata": {
        "colab": {
          "base_uri": "https://localhost:8080/"
        },
        "id": "qHU2VB7KVRrR",
        "outputId": "4712d175-9ce2-4422-e5ea-221faebf7196"
      },
      "source": [
        "mydict ={\"minute\":\"infinitely or immeasurably small\",\n",
        "         \"accord\":\"concurrence of opinion\",\n",
        "         \"evident\":\"clearly revealed to the mind or the senses or judgment\",\n",
        "         \"practice\":\"a customary way of operation or behavior\",\n",
        "         \"intend\":\"have in mind as a purpose\"}\n",
        "print(\"Enter the word you are searching for: \")\n",
        "word = input()\n",
        "print(\"The meaning of your word is: \" ,mydict[word])         "
      ],
      "execution_count": null,
      "outputs": [
        {
          "name": "stdout",
          "output_type": "stream",
          "text": [
            "Enter the word you are searching for: \n",
            "practice\n",
            "The meaning of your word is:  a customary way of operation or behavior\n"
          ]
        }
      ]
    },
    {
      "cell_type": "code",
      "metadata": {
        "colab": {
          "base_uri": "https://localhost:8080/"
        },
        "id": "boUKAySpZDp-",
        "outputId": "636a974b-5ec5-450b-cd43-943c3dd3efa4"
      },
      "source": [
        "mydict ={\"minute\":\"infinitely or immeasurably small\",\n",
        "         \"accord\":\"concurrence of opinion\",\n",
        "         \"evident\":\"clearly revealed to the mind or the senses or judgment\",\n",
        "         \"practice\":\"a customary way of operation or behavior\",\n",
        "         \"intend\":\"have in mind as a purpose\"}\n",
        "print(\"Enter the word you are searching for: \")\n",
        "word = input()\n",
        "print(\"The meaning of your word is: \" ,mydict[word])         "
      ],
      "execution_count": null,
      "outputs": [
        {
          "name": "stdout",
          "output_type": "stream",
          "text": [
            "Enter the word you are searching for: \n",
            "practice\n",
            "The meaning of your word is:  a customary way of operation or behavior\n"
          ]
        }
      ]
    },
    {
      "cell_type": "markdown",
      "metadata": {
        "id": "gW7GtzKvaAc7"
      },
      "source": [
        "SETS"
      ]
    },
    {
      "cell_type": "code",
      "metadata": {
        "colab": {
          "base_uri": "https://localhost:8080/"
        },
        "id": "CmNGPTxmZzAA",
        "outputId": "836661bc-94a5-44ac-8db2-f19532f8f29d"
      },
      "source": [
        "s = set()\n",
        "print(type(s))"
      ],
      "execution_count": null,
      "outputs": [
        {
          "name": "stdout",
          "output_type": "stream",
          "text": [
            "<class 'set'>\n"
          ]
        }
      ]
    },
    {
      "cell_type": "code",
      "metadata": {
        "colab": {
          "base_uri": "https://localhost:8080/"
        },
        "id": "ly-TAheDagtz",
        "outputId": "84443052-b92e-4f3d-f708-f526ebcbce5b"
      },
      "source": [
        "A = set([1,2,3,4,5])\n",
        "print(A)"
      ],
      "execution_count": null,
      "outputs": [
        {
          "name": "stdout",
          "output_type": "stream",
          "text": [
            "{1, 2, 3, 4, 5}\n"
          ]
        }
      ]
    },
    {
      "cell_type": "code",
      "metadata": {
        "colab": {
          "base_uri": "https://localhost:8080/"
        },
        "id": "5IC-Ll3Pax9r",
        "outputId": "eb345190-8037-47bc-d7fd-f65dfe3ec2ae"
      },
      "source": [
        "l = [1,2,3,4,5]\n",
        "s = set(l)\n",
        "s.add(1)\n",
        "s.add(6)\n",
        "print(s)"
      ],
      "execution_count": null,
      "outputs": [
        {
          "name": "stdout",
          "output_type": "stream",
          "text": [
            "{1, 2, 3, 4, 5, 6}\n"
          ]
        }
      ]
    },
    {
      "cell_type": "code",
      "metadata": {
        "colab": {
          "base_uri": "https://localhost:8080/"
        },
        "id": "oEePoqGibibQ",
        "outputId": "b4463562-01ca-475e-e208-796e5e4ffc41"
      },
      "source": [
        "s1 = s.union({6,7,8})\n",
        "s2 = s.intersection({1,7,8})\n",
        "s3 = s1.intersection({2,7,8})\n",
        "print(s)\n",
        "print(s1)\n",
        "print(s2)\n",
        "print(s3)"
      ],
      "execution_count": null,
      "outputs": [
        {
          "name": "stdout",
          "output_type": "stream",
          "text": [
            "{1, 2, 3, 4, 5, 6}\n",
            "{1, 2, 3, 4, 5, 6, 7, 8}\n",
            "{1}\n",
            "{8, 2, 7}\n"
          ]
        }
      ]
    },
    {
      "cell_type": "code",
      "metadata": {
        "colab": {
          "base_uri": "https://localhost:8080/"
        },
        "id": "-vWZ7StQclxS",
        "outputId": "e6d1c1bb-2694-4c7c-892b-75256d0e8d5d"
      },
      "source": [
        "print(s1.issubset(s2))"
      ],
      "execution_count": null,
      "outputs": [
        {
          "name": "stdout",
          "output_type": "stream",
          "text": [
            "False\n"
          ]
        }
      ]
    },
    {
      "cell_type": "code",
      "metadata": {
        "colab": {
          "base_uri": "https://localhost:8080/"
        },
        "id": "sekelooRc4jD",
        "outputId": "9fe51d0f-6b61-4a1c-c5af-c54a88ee9908"
      },
      "source": [
        "print(s2.issuperset(s1))"
      ],
      "execution_count": null,
      "outputs": [
        {
          "name": "stdout",
          "output_type": "stream",
          "text": [
            "False\n"
          ]
        }
      ]
    },
    {
      "cell_type": "code",
      "metadata": {
        "colab": {
          "base_uri": "https://localhost:8080/"
        },
        "id": "KcNwEuwOdCxM",
        "outputId": "e5557df8-d6f6-4887-9024-f65e7d618eea"
      },
      "source": [
        "print(s2.isdisjoint(s))"
      ],
      "execution_count": null,
      "outputs": [
        {
          "name": "stdout",
          "output_type": "stream",
          "text": [
            "False\n"
          ]
        }
      ]
    },
    {
      "cell_type": "code",
      "metadata": {
        "colab": {
          "base_uri": "https://localhost:8080/"
        },
        "id": "n4p4u14tdDZX",
        "outputId": "6ddf0a3c-5278-4f23-dda4-db46f8de1a4f"
      },
      "source": [
        "n = s1.remove(6)\n",
        "print(n)"
      ],
      "execution_count": null,
      "outputs": [
        {
          "name": "stdout",
          "output_type": "stream",
          "text": [
            "None\n"
          ]
        }
      ]
    },
    {
      "cell_type": "markdown",
      "metadata": {
        "id": "dlA2fwDhr3f8"
      },
      "source": [
        "If else and elif\n"
      ]
    },
    {
      "cell_type": "code",
      "metadata": {
        "colab": {
          "base_uri": "https://localhost:8080/"
        },
        "id": "QK0ZsikyeOFL",
        "outputId": "4367bd59-3a64-4e64-c99f-d75dabd1e9a2"
      },
      "source": [
        "var1 = 23\n",
        "var2 = 34\n",
        "x = var1*var2\n",
        "\n",
        "var3 = int(input())\n",
        "\n",
        "if var3 > x:\n",
        " print(\"Greater\")\n",
        "elif var3==x:\n",
        "  print(\"Equal\")\n",
        "else:\n",
        " print(\"smaller\")"
      ],
      "execution_count": null,
      "outputs": [
        {
          "name": "stdout",
          "output_type": "stream",
          "text": [
            "5\n",
            "smaller\n"
          ]
        }
      ]
    },
    {
      "cell_type": "code",
      "metadata": {
        "colab": {
          "base_uri": "https://localhost:8080/"
        },
        "id": "PPbqUfswtlU-",
        "outputId": "ae21d135-d5b3-4157-ebbc-b482b9792143"
      },
      "source": [
        "list = [3,5,6,7,89,00]\n",
        "if 5 in list:\n",
        "  print(\"Yes\")"
      ],
      "execution_count": null,
      "outputs": [
        {
          "name": "stdout",
          "output_type": "stream",
          "text": [
            "Yes\n"
          ]
        }
      ]
    },
    {
      "cell_type": "code",
      "metadata": {
        "colab": {
          "base_uri": "https://localhost:8080/"
        },
        "id": "HRn6HuJ7uvKv",
        "outputId": "8ee6f138-2512-4039-958c-5f3b1be466bd"
      },
      "source": [
        "print(6 in list)"
      ],
      "execution_count": null,
      "outputs": [
        {
          "name": "stdout",
          "output_type": "stream",
          "text": [
            "True\n"
          ]
        }
      ]
    },
    {
      "cell_type": "code",
      "metadata": {
        "colab": {
          "base_uri": "https://localhost:8080/"
        },
        "id": "nrkeixVvw8zX",
        "outputId": "ada10476-e9b7-4f3e-feac-d1fb7c0fe5f8"
      },
      "source": [
        "print(23 not in list)"
      ],
      "execution_count": null,
      "outputs": [
        {
          "name": "stdout",
          "output_type": "stream",
          "text": [
            "True\n"
          ]
        }
      ]
    },
    {
      "cell_type": "markdown",
      "metadata": {
        "id": "YfI3fG2Xyb9Y"
      },
      "source": [
        "Exercise\n"
      ]
    },
    {
      "cell_type": "code",
      "metadata": {
        "id": "SFOv6BkZztqr"
      },
      "source": [
        "import numpy as np\n"
      ],
      "execution_count": null,
      "outputs": []
    },
    {
      "cell_type": "code",
      "metadata": {
        "colab": {
          "base_uri": "https://localhost:8080/"
        },
        "id": "qsv5ueDCxGCX",
        "outputId": "70f60a61-44b2-4d63-dc39-408b4cc9859c"
      },
      "source": [
        "print(\"What is your age? \")\n",
        "yourage = int(input())\n",
        "\n",
        "if yourage>18:\n",
        "  print(\"yeyy!!! you are eligible to drive\")\n",
        "elif yourage==18:\n",
        "  print(\"You are 18 and we cannot decide until we see you physically \")\n",
        "else:\n",
        "  print(\"Oops! you are not eligible\")"
      ],
      "execution_count": null,
      "outputs": [
        {
          "name": "stdout",
          "output_type": "stream",
          "text": [
            "What is your age? \n",
            "45\n",
            "yeyy!!! you are eligible to drive\n"
          ]
        }
      ]
    },
    {
      "cell_type": "markdown",
      "metadata": {
        "id": "h-G81sg_7U2J"
      },
      "source": [
        "faulty calculator\n"
      ]
    },
    {
      "cell_type": "code",
      "metadata": {
        "colab": {
          "base_uri": "https://localhost:8080/"
        },
        "id": "rl01mcldxF4s",
        "outputId": "af425841-4167-4089-b22d-24dc527995e0"
      },
      "source": [
        "calcc = {\"int(23*3\":\"23\",\n",
        "        \"int(89+45)\":\"2\",\n",
        "        \"int(56-4)\":\"4\"}\n",
        "print(\"Enter the values you want to calculate\")\n",
        "num1 = int(input())\n",
        "num2 = int(input())\n",
        "print(\"your resultis.. \",num1*num2)\n"
      ],
      "execution_count": null,
      "outputs": [
        {
          "name": "stdout",
          "output_type": "stream",
          "text": [
            "Enter the values you want to calculate\n",
            "23\n",
            "56\n",
            "your resultis..  1288\n"
          ]
        }
      ]
    },
    {
      "cell_type": "markdown",
      "metadata": {
        "id": "sbnognotBOOu"
      },
      "source": [
        "design a calculator which will correctly solve all the problems except the following ones\n",
        "45*3=555,56+9=77,56/6=4\n",
        "\n"
      ]
    },
    {
      "cell_type": "code",
      "metadata": {
        "colab": {
          "base_uri": "https://localhost:8080/",
          "height": 128
        },
        "id": "VJPwvoS8B-4C",
        "outputId": "c81d8ca6-eff6-4f4a-a694-c4cb27dcf403"
      },
      "source": [
        "num1 =input(\"Enetr your first number: \")\n",
        "num2 = input('Enter your second number: ')\n",
        "op = input(\"Enter your operator: )\"\n",
        "\n",
        "\n",
        "  \n",
        "\n",
        " "
      ],
      "execution_count": null,
      "outputs": [
        {
          "ename": "SyntaxError",
          "evalue": "ignored",
          "output_type": "error",
          "traceback": [
            "\u001b[0;36m  File \u001b[0;32m\"<ipython-input-13-b8a3acc3425e>\"\u001b[0;36m, line \u001b[0;32m8\u001b[0m\n\u001b[0;31m    print(\"your answer is..\",77)\u001b[0m\n\u001b[0m        ^\u001b[0m\n\u001b[0;31mSyntaxError\u001b[0m\u001b[0;31m:\u001b[0m invalid syntax\n"
          ]
        }
      ]
    },
    {
      "cell_type": "markdown",
      "metadata": {
        "id": "pU7KZao1maMX"
      },
      "source": [
        "Loops"
      ]
    },
    {
      "cell_type": "code",
      "metadata": {
        "colab": {
          "base_uri": "https://localhost:8080/"
        },
        "id": "vZtqrqnH_Jb2",
        "outputId": "5c8908ed-8194-4d79-cb0f-f9fc3bf18836"
      },
      "source": [
        "list1 = [[\"raji\",2],[\"sangi\",4],[\"hari\",5],[\"siri\",8],[\"teju\",9]]\n",
        "for item, num in list1:\n",
        "  print(item,\"and her fav number is\",num)\n",
        "dict1 = dict(list1)\n",
        "for item,num in dict1.items():\n",
        "  print(item,\"and her choice is..\",num)"
      ],
      "execution_count": null,
      "outputs": [
        {
          "name": "stdout",
          "output_type": "stream",
          "text": [
            "raji and her fav number is 2\n",
            "sangi and her fav number is 4\n",
            "hari and her fav number is 5\n",
            "siri and her fav number is 8\n",
            "teju and her fav number is 9\n",
            "raji and her choice is.. 2\n",
            "sangi and her choice is.. 4\n",
            "hari and her choice is.. 5\n",
            "siri and her choice is.. 8\n",
            "teju and her choice is.. 9\n"
          ]
        }
      ]
    },
    {
      "cell_type": "code",
      "metadata": {
        "colab": {
          "base_uri": "https://localhost:8080/"
        },
        "id": "uw2fZcRFmYiR",
        "outputId": "5cfc50e6-7d22-4617-8c91-d4a7f6c2b9c7"
      },
      "source": [
        "list=[\"f\",\"t\",\"p\"]\n",
        "for item in list:\n",
        "  print(item)"
      ],
      "execution_count": null,
      "outputs": [
        {
          "name": "stdout",
          "output_type": "stream",
          "text": [
            "f\n",
            "t\n",
            "p\n"
          ]
        }
      ]
    },
    {
      "cell_type": "code",
      "metadata": {
        "colab": {
          "base_uri": "https://localhost:8080/"
        },
        "id": "kS31peYULgN1",
        "outputId": "b1467597-8f07-43ca-d20a-3a0f9e260db6"
      },
      "source": [
        "for item in dict1:\n",
        "  print(item)"
      ],
      "execution_count": null,
      "outputs": [
        {
          "name": "stdout",
          "output_type": "stream",
          "text": [
            "raji\n",
            "sangi\n",
            "hari\n",
            "siri\n",
            "teju\n"
          ]
        }
      ]
    },
    {
      "cell_type": "code",
      "metadata": {
        "colab": {
          "base_uri": "https://localhost:8080/"
        },
        "id": "-oR5TpPzN0Yh",
        "outputId": "5271639a-b91a-4ee2-a0c6-ddcc788a516f"
      },
      "source": [
        "list1 = [\"rajii\",45,\"tyu\",9,00,\"rty\",67,4,6]\n",
        "for item in list1:\n",
        "  if str(item).isnumeric() and item>=6:\n",
        "    print(item)\n"
      ],
      "execution_count": null,
      "outputs": [
        {
          "name": "stdout",
          "output_type": "stream",
          "text": [
            "45\n",
            "9\n",
            "67\n",
            "6\n"
          ]
        }
      ]
    },
    {
      "cell_type": "markdown",
      "metadata": {
        "id": "z6iwt-u9SKa3"
      },
      "source": [
        "while loops"
      ]
    },
    {
      "cell_type": "code",
      "metadata": {
        "colab": {
          "base_uri": "https://localhost:8080/"
        },
        "id": "dbvukAXDN0ua",
        "outputId": "751a9b45-d96d-4ff2-e73f-b7f1d8a8a11d"
      },
      "source": [
        "i=0\n",
        "\n",
        "while(i<45):\n",
        "  print(i)\n",
        "  i+=1\n"
      ],
      "execution_count": null,
      "outputs": [
        {
          "name": "stdout",
          "output_type": "stream",
          "text": [
            "0\n",
            "1\n",
            "2\n",
            "3\n",
            "4\n",
            "5\n",
            "6\n",
            "7\n",
            "8\n",
            "9\n",
            "10\n",
            "11\n",
            "12\n",
            "13\n",
            "14\n",
            "15\n",
            "16\n",
            "17\n",
            "18\n",
            "19\n",
            "20\n",
            "21\n",
            "22\n",
            "23\n",
            "24\n",
            "25\n",
            "26\n",
            "27\n",
            "28\n",
            "29\n",
            "30\n",
            "31\n",
            "32\n",
            "33\n",
            "34\n",
            "35\n",
            "36\n",
            "37\n",
            "38\n",
            "39\n",
            "40\n",
            "41\n",
            "42\n",
            "43\n",
            "44\n"
          ]
        }
      ]
    },
    {
      "cell_type": "code",
      "metadata": {
        "colab": {
          "base_uri": "https://localhost:8080/",
          "height": 128
        },
        "id": "uMZHU4Q9N1DL",
        "outputId": "aadfca13-8c4b-437b-cfd4-6246af7d9fda"
      },
      "source": [
        ""
      ],
      "execution_count": null,
      "outputs": [
        {
          "ename": "SyntaxError",
          "evalue": "ignored",
          "output_type": "error",
          "traceback": [
            "\u001b[0;36m  File \u001b[0;32m\"<ipython-input-17-0ea830096b2b>\"\u001b[0;36m, line \u001b[0;32m2\u001b[0m\n\u001b[0;31m    for (i<45):\u001b[0m\n\u001b[0m              ^\u001b[0m\n\u001b[0;31mSyntaxError\u001b[0m\u001b[0;31m:\u001b[0m invalid syntax\n"
          ]
        }
      ]
    },
    {
      "cell_type": "code",
      "metadata": {
        "colab": {
          "base_uri": "https://localhost:8080/"
        },
        "id": "k92_3K1BXBWc",
        "outputId": "3044d065-0ddc-410c-eadd-afe85a987b88"
      },
      "source": [
        "i=0\n",
        "\n",
        "while(True):\n",
        "  print(i*100,end=\" \")\n",
        "  if(i==4):\n",
        "    break\n",
        "  i+=1\n"
      ],
      "execution_count": null,
      "outputs": [
        {
          "name": "stdout",
          "output_type": "stream",
          "text": [
            "0 100 200 300 400 "
          ]
        }
      ]
    },
    {
      "cell_type": "code",
      "metadata": {
        "id": "diN8uVwxLhAh"
      },
      "source": [
        "i=0\n",
        "\n",
        "while(True):\n",
        "  if i+1<9:\n",
        "    i+=1\n",
        "    continue\n",
        "    \n",
        "    print(i+1,end=\" \")\n",
        "    if(i==44):\n",
        "\n",
        "      break\n",
        "      i+=1"
      ],
      "execution_count": null,
      "outputs": []
    },
    {
      "cell_type": "code",
      "metadata": {
        "colab": {
          "base_uri": "https://localhost:8080/"
        },
        "id": "5mp5amMeXDAx",
        "outputId": "751a9b45-d96d-4ff2-e73f-b7f1d8a8a11d"
      },
      "source": [
        "i=0\n",
        "\n",
        "while(i<45):\n",
        "  print(i)\n",
        "  i+=1\n"
      ],
      "execution_count": null,
      "outputs": [
        {
          "name": "stdout",
          "output_type": "stream",
          "text": [
            "0\n",
            "1\n",
            "2\n",
            "3\n",
            "4\n",
            "5\n",
            "6\n",
            "7\n",
            "8\n",
            "9\n",
            "10\n",
            "11\n",
            "12\n",
            "13\n",
            "14\n",
            "15\n",
            "16\n",
            "17\n",
            "18\n",
            "19\n",
            "20\n",
            "21\n",
            "22\n",
            "23\n",
            "24\n",
            "25\n",
            "26\n",
            "27\n",
            "28\n",
            "29\n",
            "30\n",
            "31\n",
            "32\n",
            "33\n",
            "34\n",
            "35\n",
            "36\n",
            "37\n",
            "38\n",
            "39\n",
            "40\n",
            "41\n",
            "42\n",
            "43\n",
            "44\n"
          ]
        }
      ]
    },
    {
      "cell_type": "code",
      "metadata": {
        "id": "_HlXz9hsklR4"
      },
      "source": [
        "while(1)\n",
        "inp= (\"Enter your number: \")\n",
        "if inp>=100:\n",
        "  print(\"congratulations! you entered a number greater than 100 \")\n",
        "  break\n",
        "else:\n",
        "  print(\"Try again\")\n",
        "  continue\n",
        "    "
      ],
      "execution_count": null,
      "outputs": []
    },
    {
      "cell_type": "code",
      "metadata": {
        "colab": {
          "background_save": true
        },
        "id": "EzrW6ArOmT1K",
        "outputId": "a4278e31-cbab-4312-b21b-aab4cbf38785"
      },
      "source": [
        "print(\"you have only 5 guesses..\")\n",
        "no_of_guesses=0\n",
        "number = input(\"Hey! Guess the number: \")\n",
        "while(no_of_guesses<=5):\n",
        "  no_of_guesses+=1\n",
        "  if number==20:\n",
        "    print(\"yeyy!! your guess is correct\"\\n\n",
        "    \"you won the game\")\n",
        "  elif number>=15:\n",
        "    print(\"increase the number you are a little close to it\")\n",
        "  elif 20<number<30:\n",
        "    print(\"decrease your number\")\n",
        "  elif number>30:\n",
        "    print(\"you are far from the number\")\n",
        "  elif number<10:\n",
        "    print(\"you are very far from the number..\\n increase by some\")\n",
        "  else:\n",
        "    print(\"Oops you lost the game\")\n",
        "    break\n",
        " "
      ],
      "execution_count": null,
      "outputs": [
        {
          "ename": "SyntaxError",
          "evalue": "ignored",
          "output_type": "error",
          "traceback": [
            "\u001b[0;36m  File \u001b[0;32m\"<ipython-input-1-7d8787aba887>\"\u001b[0;36m, line \u001b[0;32m7\u001b[0m\n\u001b[0;31m    print(\"yeyy!! your guess is correct\"\\n\u001b[0m\n\u001b[0m                                          ^\u001b[0m\n\u001b[0;31mSyntaxError\u001b[0m\u001b[0;31m:\u001b[0m unexpected character after line continuation character\n"
          ]
        }
      ]
    }
  ]
}